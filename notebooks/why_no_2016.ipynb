{
 "cells": [
  {
   "cell_type": "code",
   "execution_count": 1,
   "metadata": {
    "collapsed": true
   },
   "outputs": [],
   "source": [
    "import pandas as pd"
   ]
  },
  {
   "cell_type": "markdown",
   "metadata": {},
   "source": [
    "### There should be North Atlantic storms for the year 2016.  However by searching by both basin (NA) and latitide/longitude there are no entries for 2016.  Seems like there's something wrong with the original data?"
   ]
  },
  {
   "cell_type": "code",
   "execution_count": 14,
   "metadata": {
    "collapsed": true
   },
   "outputs": [],
   "source": [
    "data = pd.read_csv(\"../data/allstorms.csv\")\n",
    "\n",
    "# Basins have a space padding them so remove that\n",
    "data.loc[:, \"Basin\"] = data.loc[:, \"Basin\"].apply(lambda x: x.replace(\" \", \"\"))"
   ]
  },
  {
   "cell_type": "code",
   "execution_count": 15,
   "metadata": {
    "collapsed": false
   },
   "outputs": [
    {
     "data": {
      "text/plain": [
       "array([1848, 1851, 1852, 1853, 1854, 1855, 1856, 1857, 1858, 1859, 1860,\n",
       "       1861, 1862, 1863, 1864, 1865, 1866, 1867, 1868, 1869, 1870, 1871,\n",
       "       1872, 1873, 1874, 1875, 1876, 1877, 1878, 1879, 1880, 1881, 1882,\n",
       "       1883, 1884, 1885, 1886, 1887, 1888, 1889, 1890, 1891, 1892, 1893,\n",
       "       1894, 1895, 1896, 1897, 1898, 1899, 1900, 1901, 1902, 1903, 1904,\n",
       "       1905, 1906, 1907, 1908, 1909, 1910, 1911, 1912, 1913, 1914, 1915,\n",
       "       1916, 1917, 1918, 1919, 1920, 1921, 1922, 1923, 1924, 1925, 1926,\n",
       "       1927, 1928, 1929, 1930, 1931, 1932, 1933, 1934, 1935, 1936, 1937,\n",
       "       1938, 1939, 1940, 1941, 1942, 1943, 1944, 1945, 1946, 1947, 1948,\n",
       "       1949, 1950, 1951, 1952, 1953, 1954, 1955, 1956, 1957, 1958, 1959,\n",
       "       1960, 1961, 1962, 1963, 1964, 1965, 1966, 1967, 1968, 1969, 1970,\n",
       "       1971, 1972, 1973, 1974, 1975, 1976, 1977, 1978, 1979, 1980, 1981,\n",
       "       1982, 1983, 1984, 1985, 1986, 1987, 1988, 1989, 1990, 1991, 1992,\n",
       "       1993, 1994, 1995, 1996, 1997, 1998, 1999, 2000, 2001, 2002, 2003,\n",
       "       2004, 2005, 2006, 2007, 2008, 2009, 2010, 2011, 2012, 2013, 2014,\n",
       "       2015, 2016])"
      ]
     },
     "execution_count": 15,
     "metadata": {},
     "output_type": "execute_result"
    }
   ],
   "source": [
    "data.Season.unique()"
   ]
  },
  {
   "cell_type": "markdown",
   "metadata": {},
   "source": [
    "### ^ 2016 shows up in the list. ok, makes sense\n",
    "\n",
    "Now check to see if that year shows up with any data that is in the primary North Atlantic area of our animations, namely longitude between -130* and -30* and latitude between 10*N and 50*N"
   ]
  },
  {
   "cell_type": "code",
   "execution_count": 16,
   "metadata": {
    "collapsed": true
   },
   "outputs": [],
   "source": [
    "NA_data = data[data.Longitude.apply(lambda x: -130 < x < -30) & data.Latitude.apply(lambda x: 10 < x < 50)]"
   ]
  },
  {
   "cell_type": "code",
   "execution_count": 17,
   "metadata": {
    "collapsed": false
   },
   "outputs": [
    {
     "name": "stdout",
     "output_type": "stream",
     "text": [
      "<class 'pandas.core.frame.DataFrame'>\n",
      "Int64Index: 64933 entries, 35 to 196502\n",
      "Data columns (total 16 columns):\n",
      "Serial_Num              64933 non-null object\n",
      "Season                  64933 non-null int64\n",
      "Num                     64933 non-null int64\n",
      "Basin                   64933 non-null object\n",
      "Sub_basin               64933 non-null object\n",
      "Name                    64933 non-null object\n",
      "ISO_time                64933 non-null object\n",
      "Nature                  64933 non-null object\n",
      "Latitude                64933 non-null float64\n",
      "Longitude               64933 non-null float64\n",
      "Wind(WMO)               64933 non-null float64\n",
      "Pres(WMO)               64933 non-null float64\n",
      "Center                  64933 non-null object\n",
      "Wind(WMO) Percentile    64933 non-null float64\n",
      "Pres(WMO) Percentile    64933 non-null float64\n",
      "Track_type              64933 non-null object\n",
      "dtypes: float64(6), int64(2), object(8)\n",
      "memory usage: 8.4+ MB\n",
      "None\n",
      "\n"
     ]
    },
    {
     "data": {
      "text/html": [
       "<div>\n",
       "<style>\n",
       "    .dataframe thead tr:only-child th {\n",
       "        text-align: right;\n",
       "    }\n",
       "\n",
       "    .dataframe thead th {\n",
       "        text-align: left;\n",
       "    }\n",
       "\n",
       "    .dataframe tbody tr th {\n",
       "        vertical-align: top;\n",
       "    }\n",
       "</style>\n",
       "<table border=\"1\" class=\"dataframe\">\n",
       "  <thead>\n",
       "    <tr style=\"text-align: right;\">\n",
       "      <th></th>\n",
       "      <th>Serial_Num</th>\n",
       "      <th>Season</th>\n",
       "      <th>Num</th>\n",
       "      <th>Basin</th>\n",
       "      <th>Sub_basin</th>\n",
       "      <th>Name</th>\n",
       "      <th>ISO_time</th>\n",
       "      <th>Nature</th>\n",
       "      <th>Latitude</th>\n",
       "      <th>Longitude</th>\n",
       "      <th>Wind(WMO)</th>\n",
       "      <th>Pres(WMO)</th>\n",
       "      <th>Center</th>\n",
       "      <th>Wind(WMO) Percentile</th>\n",
       "      <th>Pres(WMO) Percentile</th>\n",
       "      <th>Track_type</th>\n",
       "    </tr>\n",
       "  </thead>\n",
       "  <tbody>\n",
       "    <tr>\n",
       "      <th>35</th>\n",
       "      <td>1851175N26270</td>\n",
       "      <td>1851</td>\n",
       "      <td>1</td>\n",
       "      <td>NA</td>\n",
       "      <td>GM</td>\n",
       "      <td>UNNAMED</td>\n",
       "      <td>1851-06-25 00:00:00</td>\n",
       "      <td>TS</td>\n",
       "      <td>28.0</td>\n",
       "      <td>-94.8</td>\n",
       "      <td>80.0</td>\n",
       "      <td>0.0</td>\n",
       "      <td>atcf</td>\n",
       "      <td>85.026</td>\n",
       "      <td>-100.0</td>\n",
       "      <td>main</td>\n",
       "    </tr>\n",
       "    <tr>\n",
       "      <th>36</th>\n",
       "      <td>1851175N26270</td>\n",
       "      <td>1851</td>\n",
       "      <td>1</td>\n",
       "      <td>NA</td>\n",
       "      <td>GM</td>\n",
       "      <td>UNNAMED</td>\n",
       "      <td>1851-06-25 06:00:00</td>\n",
       "      <td>TS</td>\n",
       "      <td>28.0</td>\n",
       "      <td>-95.4</td>\n",
       "      <td>80.0</td>\n",
       "      <td>0.0</td>\n",
       "      <td>atcf</td>\n",
       "      <td>85.026</td>\n",
       "      <td>-100.0</td>\n",
       "      <td>main</td>\n",
       "    </tr>\n",
       "    <tr>\n",
       "      <th>37</th>\n",
       "      <td>1851175N26270</td>\n",
       "      <td>1851</td>\n",
       "      <td>1</td>\n",
       "      <td>NA</td>\n",
       "      <td>GM</td>\n",
       "      <td>UNNAMED</td>\n",
       "      <td>1851-06-25 12:00:00</td>\n",
       "      <td>TS</td>\n",
       "      <td>28.0</td>\n",
       "      <td>-96.0</td>\n",
       "      <td>80.0</td>\n",
       "      <td>0.0</td>\n",
       "      <td>atcf</td>\n",
       "      <td>85.026</td>\n",
       "      <td>-100.0</td>\n",
       "      <td>main</td>\n",
       "    </tr>\n",
       "    <tr>\n",
       "      <th>38</th>\n",
       "      <td>1851175N26270</td>\n",
       "      <td>1851</td>\n",
       "      <td>1</td>\n",
       "      <td>NA</td>\n",
       "      <td>GM</td>\n",
       "      <td>UNNAMED</td>\n",
       "      <td>1851-06-25 18:00:00</td>\n",
       "      <td>TS</td>\n",
       "      <td>28.1</td>\n",
       "      <td>-96.5</td>\n",
       "      <td>80.0</td>\n",
       "      <td>0.0</td>\n",
       "      <td>atcf</td>\n",
       "      <td>85.026</td>\n",
       "      <td>-100.0</td>\n",
       "      <td>main</td>\n",
       "    </tr>\n",
       "    <tr>\n",
       "      <th>39</th>\n",
       "      <td>1851175N26270</td>\n",
       "      <td>1851</td>\n",
       "      <td>1</td>\n",
       "      <td>NA</td>\n",
       "      <td>GM</td>\n",
       "      <td>UNNAMED</td>\n",
       "      <td>1851-06-25 21:00:00</td>\n",
       "      <td>TS</td>\n",
       "      <td>28.2</td>\n",
       "      <td>-96.8</td>\n",
       "      <td>80.0</td>\n",
       "      <td>0.0</td>\n",
       "      <td>atcf</td>\n",
       "      <td>85.026</td>\n",
       "      <td>-100.0</td>\n",
       "      <td>main</td>\n",
       "    </tr>\n",
       "  </tbody>\n",
       "</table>\n",
       "</div>"
      ],
      "text/plain": [
       "       Serial_Num  Season  Num Basin Sub_basin     Name             ISO_time  \\\n",
       "35  1851175N26270    1851    1    NA        GM  UNNAMED  1851-06-25 00:00:00   \n",
       "36  1851175N26270    1851    1    NA        GM  UNNAMED  1851-06-25 06:00:00   \n",
       "37  1851175N26270    1851    1    NA        GM  UNNAMED  1851-06-25 12:00:00   \n",
       "38  1851175N26270    1851    1    NA        GM  UNNAMED  1851-06-25 18:00:00   \n",
       "39  1851175N26270    1851    1    NA        GM  UNNAMED  1851-06-25 21:00:00   \n",
       "\n",
       "   Nature  Latitude  Longitude  Wind(WMO)  Pres(WMO) Center  \\\n",
       "35     TS      28.0      -94.8       80.0        0.0   atcf   \n",
       "36     TS      28.0      -95.4       80.0        0.0   atcf   \n",
       "37     TS      28.0      -96.0       80.0        0.0   atcf   \n",
       "38     TS      28.1      -96.5       80.0        0.0   atcf   \n",
       "39     TS      28.2      -96.8       80.0        0.0   atcf   \n",
       "\n",
       "    Wind(WMO) Percentile  Pres(WMO) Percentile Track_type  \n",
       "35                85.026                -100.0       main  \n",
       "36                85.026                -100.0       main  \n",
       "37                85.026                -100.0       main  \n",
       "38                85.026                -100.0       main  \n",
       "39                85.026                -100.0       main  "
      ]
     },
     "execution_count": 17,
     "metadata": {},
     "output_type": "execute_result"
    }
   ],
   "source": [
    "print NA_data.info()\n",
    "print\n",
    "NA_data.head()"
   ]
  },
  {
   "cell_type": "code",
   "execution_count": 18,
   "metadata": {
    "collapsed": false
   },
   "outputs": [],
   "source": [
    "na_basin = NA_data[NA_data.Basin == \"NA\"]"
   ]
  },
  {
   "cell_type": "code",
   "execution_count": 19,
   "metadata": {
    "collapsed": false
   },
   "outputs": [
    {
     "name": "stdout",
     "output_type": "stream",
     "text": [
      "<class 'pandas.core.frame.DataFrame'>\n",
      "Int64Index: 45534 entries, 35 to 196401\n",
      "Data columns (total 16 columns):\n",
      "Serial_Num              45534 non-null object\n",
      "Season                  45534 non-null int64\n",
      "Num                     45534 non-null int64\n",
      "Basin                   45534 non-null object\n",
      "Sub_basin               45534 non-null object\n",
      "Name                    45534 non-null object\n",
      "ISO_time                45534 non-null object\n",
      "Nature                  45534 non-null object\n",
      "Latitude                45534 non-null float64\n",
      "Longitude               45534 non-null float64\n",
      "Wind(WMO)               45534 non-null float64\n",
      "Pres(WMO)               45534 non-null float64\n",
      "Center                  45534 non-null object\n",
      "Wind(WMO) Percentile    45534 non-null float64\n",
      "Pres(WMO) Percentile    45534 non-null float64\n",
      "Track_type              45534 non-null object\n",
      "dtypes: float64(6), int64(2), object(8)\n",
      "memory usage: 5.9+ MB\n"
     ]
    }
   ],
   "source": [
    "na_basin.info()"
   ]
  },
  {
   "cell_type": "code",
   "execution_count": 20,
   "metadata": {
    "collapsed": false
   },
   "outputs": [
    {
     "data": {
      "text/plain": [
       "array([1851, 1852, 1853, 1854, 1855, 1856, 1857, 1858, 1859, 1860, 1861,\n",
       "       1862, 1863, 1864, 1865, 1866, 1867, 1868, 1869, 1870, 1871, 1872,\n",
       "       1873, 1874, 1875, 1876, 1877, 1878, 1879, 1880, 1881, 1882, 1883,\n",
       "       1884, 1885, 1886, 1887, 1888, 1889, 1890, 1891, 1892, 1893, 1894,\n",
       "       1895, 1896, 1897, 1898, 1899, 1900, 1901, 1902, 1903, 1904, 1905,\n",
       "       1906, 1907, 1908, 1909, 1910, 1911, 1912, 1913, 1914, 1915, 1916,\n",
       "       1917, 1918, 1919, 1920, 1921, 1922, 1923, 1924, 1925, 1926, 1927,\n",
       "       1928, 1929, 1930, 1931, 1932, 1933, 1934, 1935, 1936, 1937, 1938,\n",
       "       1939, 1940, 1941, 1942, 1943, 1944, 1945, 1946, 1947, 1948, 1949,\n",
       "       1950, 1951, 1952, 1953, 1954, 1955, 1956, 1957, 1958, 1959, 1960,\n",
       "       1961, 1962, 1963, 1964, 1965, 1966, 1967, 1968, 1969, 1970, 1971,\n",
       "       1972, 1973, 1974, 1975, 1976, 1977, 1978, 1979, 1980, 1981, 1982,\n",
       "       1983, 1984, 1985, 1986, 1987, 1988, 1989, 1990, 1991, 1992, 1993,\n",
       "       1994, 1995, 1996, 1997, 1998, 1999, 2000, 2001, 2002, 2003, 2004,\n",
       "       2005, 2006, 2007, 2008, 2009, 2010, 2011, 2012, 2013, 2014, 2015])"
      ]
     },
     "execution_count": 20,
     "metadata": {},
     "output_type": "execute_result"
    }
   ],
   "source": [
    "na_basin.Season.unique()"
   ]
  },
  {
   "cell_type": "markdown",
   "metadata": {},
   "source": [
    "### ^ 2016 now missing, wth.  Try with just NA lat/long data"
   ]
  },
  {
   "cell_type": "code",
   "execution_count": 22,
   "metadata": {
    "collapsed": false
   },
   "outputs": [
    {
     "data": {
      "text/plain": [
       "array([1851, 1852, 1853, 1854, 1855, 1856, 1857, 1858, 1859, 1860, 1861,\n",
       "       1862, 1863, 1864, 1865, 1866, 1867, 1868, 1869, 1870, 1871, 1872,\n",
       "       1873, 1874, 1875, 1876, 1877, 1878, 1879, 1880, 1881, 1882, 1883,\n",
       "       1884, 1885, 1886, 1887, 1888, 1889, 1890, 1891, 1892, 1893, 1894,\n",
       "       1895, 1896, 1897, 1898, 1899, 1900, 1901, 1902, 1903, 1904, 1905,\n",
       "       1906, 1907, 1908, 1909, 1910, 1911, 1912, 1913, 1914, 1915, 1916,\n",
       "       1917, 1918, 1919, 1920, 1921, 1922, 1923, 1924, 1925, 1926, 1927,\n",
       "       1928, 1929, 1930, 1931, 1932, 1933, 1934, 1935, 1936, 1937, 1938,\n",
       "       1939, 1940, 1941, 1942, 1943, 1944, 1945, 1946, 1947, 1948, 1949,\n",
       "       1950, 1951, 1952, 1953, 1954, 1955, 1956, 1957, 1958, 1959, 1960,\n",
       "       1961, 1962, 1963, 1964, 1965, 1966, 1967, 1968, 1969, 1970, 1971,\n",
       "       1972, 1973, 1974, 1975, 1976, 1977, 1978, 1979, 1980, 1981, 1982,\n",
       "       1983, 1984, 1985, 1986, 1987, 1988, 1989, 1990, 1991, 1992, 1993,\n",
       "       1994, 1995, 1996, 1997, 1998, 1999, 2000, 2001, 2002, 2003, 2004,\n",
       "       2005, 2006, 2007, 2008, 2009, 2010, 2011, 2012, 2013, 2014, 2015])"
      ]
     },
     "execution_count": 22,
     "metadata": {},
     "output_type": "execute_result"
    }
   ],
   "source": [
    "NA_data.Season.unique()"
   ]
  },
  {
   "cell_type": "markdown",
   "metadata": {},
   "source": [
    "### ^ Also missing. Either there's one retarded bug early in the data pipeline or the data is missing for some reason.  Maybe because the report was published before the atlantic hurricane season (ends Nov 2016) but after the southern hemisphere seasons (ends ~March 2016)"
   ]
  }
 ],
 "metadata": {
  "kernelspec": {
   "display_name": "Python 2",
   "language": "python",
   "name": "python2"
  },
  "language_info": {
   "codemirror_mode": {
    "name": "ipython",
    "version": 2
   },
   "file_extension": ".py",
   "mimetype": "text/x-python",
   "name": "python",
   "nbconvert_exporter": "python",
   "pygments_lexer": "ipython2",
   "version": "2.7.13"
  }
 },
 "nbformat": 4,
 "nbformat_minor": 2
}
